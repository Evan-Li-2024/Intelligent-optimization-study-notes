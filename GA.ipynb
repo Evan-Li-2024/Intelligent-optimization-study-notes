{
 "cells": [
  {
   "cell_type": "markdown",
   "metadata": {},
   "source": [
    "# genetic algorithm 遗传算法\n",
    "\n",
    "## 1.Application\n",
    "\n",
    "1. 寻找函数全局的最优解（最大值或者最小值）\n",
    "2. 机器学习中优化模型的超参数\n",
    "3. 旅行商问题：寻找最短路径\n",
    "4. 背包问题： 在限制下使得总价值（目标函数）最大化\n",
    "5. 任务分配问题\n",
    "\n",
    "## 2. Algorithm\n",
    "\n",
    "1. 核心思想 ： 模拟种群进化，其本质是通过**选择、交叉、变异**操作，像最优解进化\n",
    "2. 基本概念 ： \n",
    "  * Individual 个体 ： 一个候选解\n",
    "  * population 种群 ： 一组个体，代表当前搜索的解空间\n",
    "  * Fitness Function 适应度函数 : 衡量个体优劣的标准\n",
    "3. 工作流程 ： \n",
    "  * 对问题编码 ： 1.二进制编码,适用于离散问题 2.实数编码，适用于连续问题 3. 排列编码 ：适用于组合优化问题\n",
    "  * 初始化种群 ： 1.随机初始化，随机生成满足变量范围的解 2.启发式初始化 ；利用先验知识生成初始解\n",
    "  ``` def initialize_population(pop_size,bounds)\n",
    "      # 随机生成满足变量范围内的解\n",
    "        return np.random.uniform(bounds[0],bounds[1],pop_size)\n",
    "  ```\n",
    "  * 计算适应度函数 ： \n",
    "  ```    def fitness_function(x):\n",
    "       # 例如：求函数 f(x) = x * sin(10π * x) + 2.0 的最大值\n",
    "            return x * np.sin(10 * np.pi * x) + 2.0\n",
    "  ```\n",
    "  * 选择操作 ： 根据适应度选择优秀个体\n",
    "  ```    def select_parents(population, fitness):\n",
    "       # 轮盘赌选择法\n",
    "            probs  = fitness / fitness.sum()\n",
    "            selected_indices  =  np.random.choice(len(population),size=len(population),p=probs)\n",
    "            return population[selected_indices]\n",
    "  ```\n",
    "    假如适应度函数为负数，那么可以使用适应度函数平移的方法\n",
    "  ``` \n",
    "      shifted_fitness = fitness - np.min(fitness)\n",
    "  ```\n",
    "  *交叉操作 ： 产生新一代个体\n",
    "  ```    def crossover(parents):\n",
    "            offspring = np.zeros(len(parents))\n",
    "            for i in range(0,len(parents),2):\n",
    "              beta = np.random.random()\n",
    "              offspring[i] = parents[i] * beta + parents[i+1]*(1-beta)\n",
    "              offspring[i+1] = parents[i+1] * beta + parents[i]*(1-beta)\n",
    "            return offspring\n",
    "  ```\n",
    "  *变异操作 ： 维持种群多样性\n",
    "  ```    def mutate(offspring,mutate_rate,bounds):\n",
    "          # mask 是用于记录每一个个体是否将发生变异数组\n",
    "          mask = np.random.random(len(offspring)) < mutate_rate\n",
    "          #生成变异值\n",
    "          mutation = np.random.normal(0,0.1,len(offspring))\n",
    "          offspring[mask] += mutation[mask]\n",
    "          offspring = np.clip(offspring, bounds[0], bounds[1])\n",
    "          return offspring\n",
    "  ```\n",
    "             \n"
   ]
  },
  {
   "cell_type": "code",
   "execution_count": 8,
   "metadata": {},
   "outputs": [
    {
     "data": {
      "text/plain": [
       "array([ 0.05913532,  0.01746663,  0.04205566, -0.09679154, -0.10405432,\n",
       "       -0.05181892, -0.11917878,  0.00022595,  0.00602761,  0.10980543])"
      ]
     },
     "execution_count": 8,
     "metadata": {},
     "output_type": "execute_result"
    }
   ],
   "source": [
    "import numpy as np\n",
    "\n",
    "mask = np.random.random(10) < 0.3\n",
    "\n",
    "mutation = np.random.normal(0, 0.1, 10)\n",
    "\n",
    "mutation"
   ]
  }
 ],
 "metadata": {
  "kernelspec": {
   "display_name": "Python 3",
   "language": "python",
   "name": "python3"
  },
  "language_info": {
   "codemirror_mode": {
    "name": "ipython",
    "version": 3
   },
   "file_extension": ".py",
   "mimetype": "text/x-python",
   "name": "python",
   "nbconvert_exporter": "python",
   "pygments_lexer": "ipython3",
   "version": "3.11.4"
  }
 },
 "nbformat": 4,
 "nbformat_minor": 2
}
